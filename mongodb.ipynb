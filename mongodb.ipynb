{
 "cells": [
  {
   "cell_type": "code",
   "execution_count": 1,
   "id": "861d8d63-bb05-4b35-9c01-3e460274b48d",
   "metadata": {},
   "outputs": [
    {
     "data": {
      "text/plain": [
       "'MongoDB is a popular non-relational, document-oriented database management system. It is classified as a NoSQL database, which stands for \"Not Only SQL.\" Here\\'s a brief explanation of non-relational databases and scenarios where MongoDB is preferred over SQL databases:\\n\\nNon-relational databases:\\nNon-relational databases, also known as NoSQL databases, are designed to store and manage large volumes of unstructured or semi-structured data. They provide flexible schemas and offer a variety of data models, including key-value, document, columnar, and graph-based. Unlike traditional relational databases, non-relational databases do not rely on a fixed schema and use different data storage and retrieval techniques.\\nPreferred scenarios for using MongoDB over SQL databases:\\n\\nFlexible schema\\nUnstructured or semi-structured data\\nHorizontal scalability\\nHigh-speed data access\\nAgile development\\nReal-time analytics\\nIt\\'s important to note that the choice between MongoDB and SQL databases depends on the specific requirements of the project, including data structure, scalability needs, query patterns, and development preferences. While SQL databases excel in scenarios that require complex joins, ACID transactions, and strict data integrity, MongoDB\\'s strengths lie in its flexible schema, scalability, and handling of unstructured data.\\n'"
      ]
     },
     "execution_count": 1,
     "metadata": {},
     "output_type": "execute_result"
    }
   ],
   "source": [
    "#que 1\n",
    "\"\"\"MongoDB is a popular non-relational, document-oriented database management system. It is classified as a NoSQL database, which stands for \"Not Only SQL.\" Here's a brief explanation of non-relational databases and scenarios where MongoDB is preferred over SQL databases:\n",
    "\n",
    "Non-relational databases:\n",
    "Non-relational databases, also known as NoSQL databases, are designed to store and manage large volumes of unstructured or semi-structured data. They provide flexible schemas and offer a variety of data models, including key-value, document, columnar, and graph-based. Unlike traditional relational databases, non-relational databases do not rely on a fixed schema and use different data storage and retrieval techniques.\n",
    "Preferred scenarios for using MongoDB over SQL databases:\n",
    "\n",
    "Flexible schema\n",
    "Unstructured or semi-structured data\n",
    "Horizontal scalability\n",
    "High-speed data access\n",
    "Agile development\n",
    "Real-time analytics\n",
    "It's important to note that the choice between MongoDB and SQL databases depends on the specific requirements of the project, including data structure, scalability needs, query patterns, and development preferences. While SQL databases excel in scenarios that require complex joins, ACID transactions, and strict data integrity, MongoDB's strengths lie in its flexible schema, scalability, and handling of unstructured data.\n",
    "\"\"\""
   ]
  },
  {
   "cell_type": "code",
   "execution_count": 2,
   "id": "a368fb9a-b4b7-46d3-8894-193b3866b4e1",
   "metadata": {},
   "outputs": [
    {
     "data": {
      "text/plain": [
       "\"MongoDB, as a popular NoSQL document-oriented database, offers a range of features that differentiate it from traditional SQL databases. Here are some key features of MongoDB:\\n\\nDocument-oriented model:\\nMongoDB uses a document-oriented data model, where data is stored in flexible, self-describing JSON-like documents called BSON (Binary JSON). This model allows for easy storage and retrieval of complex, hierarchical data structures without the need for rigid schemas.\\n\\nFlexible Schema:\\nMongoDB's flexible schema allows for dynamic and evolving data structures within a collection. Each document can have its own unique set of fields, and new fields can be added to documents without affecting other documents in the collection. This flexibility is beneficial for agile development and accommodating changing data requirements.\\n\\nScalability and High Availability:\\nMongoDB is designed to scale horizontally across multiple servers or clusters. It supports automatic sharding, which allows data to be distributed across multiple machines, enabling seamless scalability as data volumes increase. It also provides replica sets for high availability, ensuring data redundancy and fault tolerance.\""
      ]
     },
     "execution_count": 2,
     "metadata": {},
     "output_type": "execute_result"
    }
   ],
   "source": [
    "#que 2\n",
    "\"\"\"MongoDB, as a popular NoSQL document-oriented database, offers a range of features that differentiate it from traditional SQL databases. Here are some key features of MongoDB:\n",
    "\n",
    "Document-oriented model:\n",
    "MongoDB uses a document-oriented data model, where data is stored in flexible, self-describing JSON-like documents called BSON (Binary JSON). This model allows for easy storage and retrieval of complex, hierarchical data structures without the need for rigid schemas.\n",
    "\n",
    "Flexible Schema:\n",
    "MongoDB's flexible schema allows for dynamic and evolving data structures within a collection. Each document can have its own unique set of fields, and new fields can be added to documents without affecting other documents in the collection. This flexibility is beneficial for agile development and accommodating changing data requirements.\n",
    "\n",
    "Scalability and High Availability:\n",
    "MongoDB is designed to scale horizontally across multiple servers or clusters. It supports automatic sharding, which allows data to be distributed across multiple machines, enabling seamless scalability as data volumes increase. It also provides replica sets for high availability, ensuring data redundancy and fault tolerance.\"\"\""
   ]
  },
  {
   "cell_type": "code",
   "execution_count": null,
   "id": "491f2c29-0a86-4657-a0b8-d8c6c7722758",
   "metadata": {},
   "outputs": [],
   "source": [
    "#que3\n",
    "pip install pymongo\n",
    "\n",
    "import pymongo\n",
    "\n",
    "# Establishing a connection\n",
    "client = pymongo.MongoClient(\"mongodb://localhost:27017/\")\n",
    "\n",
    "# Creating/connecting to a database\n",
    "mydb = client[\"mydatabase\"]\n",
    "\n",
    "# Creating/connecting to a collection\n",
    "mycol = mydb[\"customers\"]\n",
    "\n",
    "# Printing the list of databases\n",
    "print(client.list_database_names())\n",
    "\n",
    "# Printing the list of collections in the current database\n",
    "print(mydb.list_collection_names())\n"
   ]
  },
  {
   "cell_type": "code",
   "execution_count": null,
   "id": "9c4e218a-9255-4d6b-af41-2e33c7e2c3fb",
   "metadata": {},
   "outputs": [],
   "source": [
    "#que4\n",
    "import pymongo\n",
    "\n",
    "# Establishing a connection\n",
    "client = pymongo.MongoClient(\"mongodb://localhost:27017/\")\n",
    "\n",
    "# Creating/connecting to a database\n",
    "mydb = client[\"mydatabase\"]\n",
    "\n",
    "# Creating/connecting to a collection\n",
    "mycol = mydb[\"customers\"]\n",
    "\n",
    "# Inserting one record\n",
    "record1 = {\"name\": \"John Doe\", \"email\": \"john.doe@example.com\", \"age\": 30}\n",
    "inserted_record1 = mycol.insert_one(record1)\n",
    "print(\"Inserted record ID:\", inserted_record1.inserted_id)\n",
    "\n",
    "# Inserting multiple records\n",
    "records = [\n",
    "    {\"name\": \"Jane Smith\", \"email\": \"jane.smith@example.com\", \"age\": 25},\n",
    "    {\"name\": \"David Johnson\", \"email\": \"david.johnson@example.com\", \"age\": 35},\n",
    "    {\"name\": \"Emma Williams\", \"email\": \"emma.williams@example.com\", \"age\": 28}\n",
    "]\n",
    "inserted_records = mycol.insert_many(records)\n",
    "print(\"Inserted record IDs:\", inserted_records.inserted_ids)\n",
    "\n",
    "# Retrieving the inserted records\n",
    "print(\"Inserted Record (find_one):\")\n",
    "print(mycol.find_one({\"_id\": inserted_record1.inserted_id}))\n",
    "\n",
    "print(\"\\nInserted Records (find):\")\n",
    "for record in mycol.find():\n",
    "    print(record)\n"
   ]
  },
  {
   "cell_type": "code",
   "execution_count": null,
   "id": "8a517344-1460-48ed-b0db-4158674683a3",
   "metadata": {},
   "outputs": [],
   "source": [
    "#que 5\n",
    "\"\"\"The find() method in MongoDB is used to query the database and retrieve documents that match specific criteria. It allows you to specify filters, projections, sorting, and other options to fine-tune the query results. Here's a brief explanation of how you can use the find() method, along with a simple code example:\"\"\"\n",
    "import pymongo\n",
    "\n",
    "# Establishing a connection\n",
    "client = pymongo.MongoClient(\"mongodb://localhost:27017/\")\n",
    "\n",
    "# Creating/connecting to a database\n",
    "mydb = client[\"mydatabase\"]\n",
    "\n",
    "# Creating/connecting to a collection\n",
    "mycol = mydb[\"customers\"]\n",
    "\n",
    "# Inserting sample data\n",
    "mycol.insert_many([\n",
    "    {\"name\": \"John Doe\", \"age\": 30, \"city\": \"New York\"},\n",
    "    {\"name\": \"Jane Smith\", \"age\": 25, \"city\": \"London\"},\n",
    "    {\"name\": \"David Johnson\", \"age\": 35, \"city\": \"Paris\"},\n",
    "    {\"name\": \"Emma Williams\", \"age\": 28, \"city\": \"New York\"},\n",
    "])\n",
    "\n",
    "# Performing a find query\n",
    "query = {\"city\": \"New York\"}  # Filter for documents with city = \"New York\"\n",
    "projection = {\"name\": 1, \"_id\": 0}  # Include only the \"name\" field, exclude \"_id\" field\n",
    "\n",
    "results = mycol.find(query, projection)\n",
    "\n",
    "# Printing the query results\n",
    "for document in results:\n",
    "    print(document)\n"
   ]
  },
  {
   "cell_type": "code",
   "execution_count": null,
   "id": "56fb50ec-2558-455b-964d-38235db5bb0e",
   "metadata": {},
   "outputs": [],
   "source": []
  }
 ],
 "metadata": {
  "kernelspec": {
   "display_name": "Python 3 (ipykernel)",
   "language": "python",
   "name": "python3"
  },
  "language_info": {
   "codemirror_mode": {
    "name": "ipython",
    "version": 3
   },
   "file_extension": ".py",
   "mimetype": "text/x-python",
   "name": "python",
   "nbconvert_exporter": "python",
   "pygments_lexer": "ipython3",
   "version": "3.10.8"
  }
 },
 "nbformat": 4,
 "nbformat_minor": 5
}
